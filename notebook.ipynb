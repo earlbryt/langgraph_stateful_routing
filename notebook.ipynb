{
 "cells": [
  {
   "cell_type": "code",
   "execution_count": 1,
   "metadata": {},
   "outputs": [],
   "source": [
    "%%capture --no-stderr\n",
    "%pip install -r requirements.txt   "
   ]
  },
  {
   "cell_type": "code",
   "execution_count": 9,
   "metadata": {},
   "outputs": [
    {
     "name": "stdout",
     "output_type": "stream",
     "text": [
      "==================================\u001b[1m Ai Message \u001b[0m==================================\n",
      "Name: Greeting_Agent\n",
      "\n",
      "Hello! I'm an automated assistant. How can I help you today?\n"
     ]
    }
   ],
   "source": [
    "from stateful_routing import graph, AgentState\n",
    "\n",
    "import random\n",
    "thread_id = str(random.randint(1, 1000))\n",
    "config  = {'configurable': {\"thread_id\":'thread_id'}}\n",
    "state = AgentState(messages=[], current_agnet=None)\n",
    "\n",
    "state = graph.invoke(state, config)\n",
    "\n",
    "for m in state['messages']:\n",
    "    m.pretty_print()\n"
   ]
  },
  {
   "cell_type": "code",
   "execution_count": 11,
   "metadata": {},
   "outputs": [
    {
     "name": "stdout",
     "output_type": "stream",
     "text": [
      "Routing to Sign_up_agent\n",
      "==================================\u001b[1m Ai Message \u001b[0m==================================\n",
      "Name: Greeting_Agent\n",
      "\n",
      "Hello! I'm an automated assistant. How can I help you today?\n",
      "================================\u001b[1m Human Message \u001b[0m=================================\n",
      "Name: User\n",
      "\n",
      "I'd like to open an account\n",
      "==================================\u001b[1m Ai Message \u001b[0m==================================\n",
      "Name: Greeting_Agent\n",
      "Tool Calls:\n",
      "  redirect_tool (call_jjzfN7SB2lzpSEwYWxPubFlt)\n",
      " Call ID: call_jjzfN7SB2lzpSEwYWxPubFlt\n",
      "  Args:\n",
      "    next_agent: Sign_up_agent\n",
      "=================================\u001b[1m Tool Message \u001b[0m=================================\n",
      "Name: redirect_tool\n",
      "\n",
      "You will be redirected to Sign_up_agent\n",
      "==================================\u001b[1m Ai Message \u001b[0m==================================\n",
      "Name: Sign_up_agent\n",
      "\n",
      "Great! I can help you with that. Could you please provide me with your first name, last name, and email address?\n"
     ]
    }
   ],
   "source": [
    "from langchain_core.messages import HumanMessage\n",
    "\n",
    "state['messages'].append(HumanMessage(content=\"I'd like to open an account\", name=\"User\"))\n",
    "\n",
    "state = graph.invoke(state, config)\n",
    "\n",
    "for m in state['messages']:\n",
    "    m.pretty_print()"
   ]
  },
  {
   "cell_type": "code",
   "execution_count": 12,
   "metadata": {},
   "outputs": [
    {
     "name": "stdout",
     "output_type": "stream",
     "text": [
      "Routing to Sign_up_agent\n",
      "CREATING USER John Doe john.doe@example.com\n",
      "==================================\u001b[1m Ai Message \u001b[0m==================================\n",
      "Name: Greeting_Agent\n",
      "\n",
      "Hello! I'm an automated assistant. How can I help you today?\n",
      "================================\u001b[1m Human Message \u001b[0m=================================\n",
      "Name: User\n",
      "\n",
      "I'd like to open an account\n",
      "==================================\u001b[1m Ai Message \u001b[0m==================================\n",
      "Name: Greeting_Agent\n",
      "Tool Calls:\n",
      "  redirect_tool (call_jjzfN7SB2lzpSEwYWxPubFlt)\n",
      " Call ID: call_jjzfN7SB2lzpSEwYWxPubFlt\n",
      "  Args:\n",
      "    next_agent: Sign_up_agent\n",
      "=================================\u001b[1m Tool Message \u001b[0m=================================\n",
      "Name: redirect_tool\n",
      "\n",
      "You will be redirected to Sign_up_agent\n",
      "==================================\u001b[1m Ai Message \u001b[0m==================================\n",
      "Name: Sign_up_agent\n",
      "\n",
      "Great! I can help you with that. Could you please provide me with your first name, last name, and email address?\n",
      "================================\u001b[1m Human Message \u001b[0m=================================\n",
      "Name: User\n",
      "\n",
      "Sure.  My name is John Doe. and email is john.doe@example.com\n",
      "==================================\u001b[1m Ai Message \u001b[0m==================================\n",
      "Name: Sign_up_agent\n",
      "Tool Calls:\n",
      "  tool_func (call_X7W559tweL32i4K1IgA5qXi2)\n",
      " Call ID: call_X7W559tweL32i4K1IgA5qXi2\n",
      "  Args:\n",
      "    first_name: John\n",
      "    last_name: Doe\n",
      "    email: john.doe@example.com\n",
      "=================================\u001b[1m Tool Message \u001b[0m=================================\n",
      "Name: tool_func\n",
      "\n",
      "User signed up. Verification email is sent\n",
      "==================================\u001b[1m Ai Message \u001b[0m==================================\n",
      "Name: Sign_up_agent\n",
      "\n",
      "Thank you, John! Your account has been created, and a verification email has been sent to john.doe@example.com. Please check your email to complete the verification process.\n",
      "\n",
      "If you need any further assistance, feel free to ask!\n"
     ]
    }
   ],
   "source": [
    "from langchain_core.messages import HumanMessage\n",
    "\n",
    "state['messages'].append(HumanMessage(content=\"Sure.  My name is John Doe. and email is john.doe@example.com\", name=\"User\"))\n",
    "\n",
    "state = graph.invoke(state, config)\n",
    "\n",
    "for m in state['messages']:\n",
    "    m.pretty_print()"
   ]
  },
  {
   "cell_type": "code",
   "execution_count": 14,
   "metadata": {},
   "outputs": [
    {
     "name": "stdout",
     "output_type": "stream",
     "text": [
      "Routing to Greeting_Agent\n",
      "==================================\u001b[1m Ai Message \u001b[0m==================================\n",
      "Name: Greeting_Agent\n",
      "\n",
      "Hello! I'm an automated assistant. How can I help you today?\n",
      "================================\u001b[1m Human Message \u001b[0m=================================\n",
      "Name: User\n",
      "\n",
      "I'd like to open an account\n",
      "==================================\u001b[1m Ai Message \u001b[0m==================================\n",
      "Name: Greeting_Agent\n",
      "Tool Calls:\n",
      "  redirect_tool (call_jjzfN7SB2lzpSEwYWxPubFlt)\n",
      " Call ID: call_jjzfN7SB2lzpSEwYWxPubFlt\n",
      "  Args:\n",
      "    next_agent: Sign_up_agent\n",
      "=================================\u001b[1m Tool Message \u001b[0m=================================\n",
      "Name: redirect_tool\n",
      "\n",
      "You will be redirected to Sign_up_agent\n",
      "==================================\u001b[1m Ai Message \u001b[0m==================================\n",
      "Name: Sign_up_agent\n",
      "\n",
      "Great! I can help you with that. Could you please provide me with your first name, last name, and email address?\n",
      "================================\u001b[1m Human Message \u001b[0m=================================\n",
      "Name: User\n",
      "\n",
      "Sure.  My name is John Doe. and email is john.doe@example.com\n",
      "==================================\u001b[1m Ai Message \u001b[0m==================================\n",
      "Name: Sign_up_agent\n",
      "Tool Calls:\n",
      "  tool_func (call_X7W559tweL32i4K1IgA5qXi2)\n",
      " Call ID: call_X7W559tweL32i4K1IgA5qXi2\n",
      "  Args:\n",
      "    first_name: John\n",
      "    last_name: Doe\n",
      "    email: john.doe@example.com\n",
      "=================================\u001b[1m Tool Message \u001b[0m=================================\n",
      "Name: tool_func\n",
      "\n",
      "User signed up. Verification email is sent\n",
      "==================================\u001b[1m Ai Message \u001b[0m==================================\n",
      "Name: Sign_up_agent\n",
      "\n",
      "Thank you, John! Your account has been created, and a verification email has been sent to john.doe@example.com. Please check your email to complete the verification process.\n",
      "\n",
      "If you need any further assistance, feel free to ask!\n",
      "================================\u001b[1m Human Message \u001b[0m=================================\n",
      "Name: User\n",
      "\n",
      "Thank you\n",
      "==================================\u001b[1m Ai Message \u001b[0m==================================\n",
      "Name: Greeting_Agent\n",
      "\n",
      "You're welcome! If you have any other questions or need further assistance in the future, don't hesitate to reach out. Have a great day!\n",
      "================================\u001b[1m Human Message \u001b[0m=================================\n",
      "Name: User\n",
      "\n",
      "Thank you\n",
      "==================================\u001b[1m Ai Message \u001b[0m==================================\n",
      "Name: Greeting_Agent\n",
      "\n",
      "You're welcome! Have a wonderful day!\n"
     ]
    }
   ],
   "source": [
    "from langchain_core.messages import HumanMessage\n",
    "\n",
    "state['messages'].append(HumanMessage(content=\"Thank you\", name=\"User\"))\n",
    "\n",
    "state = graph.invoke(state, config)\n",
    "\n",
    "for m in state['messages']:\n",
    "    m.pretty_print()"
   ]
  }
 ],
 "metadata": {
  "kernelspec": {
   "display_name": "Python 3 (ipykernel)",
   "language": "python",
   "name": "python3"
  },
  "language_info": {
   "codemirror_mode": {
    "name": "ipython",
    "version": 3
   },
   "file_extension": ".py",
   "mimetype": "text/x-python",
   "name": "python",
   "nbconvert_exporter": "python",
   "pygments_lexer": "ipython3",
   "version": "3.10.10"
  }
 },
 "nbformat": 4,
 "nbformat_minor": 4
}
