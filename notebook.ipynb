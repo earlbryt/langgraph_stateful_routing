{
 "cells": [
  {
   "cell_type": "code",
   "execution_count": 30,
   "metadata": {},
   "outputs": [],
   "source": [
    "%%capture --no-stderr\n",
    "%pip install -r requirements.txt   "
   ]
  },
  {
   "cell_type": "code",
   "execution_count": 31,
   "metadata": {},
   "outputs": [
    {
     "data": {
      "image/jpeg": "[encoded data removed]",
      "text/plain": [
       "<IPython.core.display.Image object>"
      ]
     },
     "metadata": {},
     "output_type": "display_data"
    }
   ],
   "source": [
    "from IPython.display import Image, display\n",
    "from stateful_routing import graph, AgentState\n",
    "\n",
    "display(Image(graph.get_graph().draw_mermaid_png()))"
   ]
  },
  {
   "cell_type": "markdown",
   "metadata": {},
   "source": [
    "Starting the conversation with new thread_id.\n",
    "\n",
    "The first request is routed to the default Greeting node."
   ]
  },
  {
   "cell_type": "code",
   "execution_count": 32,
   "metadata": {},
   "outputs": [
    {
     "name": "stdout",
     "output_type": "stream",
     "text": [
      "================================\u001b[1m Human Message \u001b[0m=================================\n",
      "Name: User\n",
      "\n",
      "Hello\n",
      "==================================\u001b[1m Ai Message \u001b[0m==================================\n",
      "Name: Greeting_Agent\n",
      "\n",
      "Hello. I'm an automated assistant. How can I help you today?\n"
     ]
    }
   ],
   "source": [
    "\n",
    "\n",
    "import random\n",
    "from langchain_core.messages import HumanMessage\n",
    "\n",
    "thread_id = str(random.randint(1, 1000))\n",
    "config  = {'configurable': {\"thread_id\":thread_id}}\n",
    "state = AgentState(messages=[], current_agnet=None)\n",
    "\n",
    "state['messages'].append(HumanMessage(content=\"Hello\", name=\"User\"))\n",
    "\n",
    "state = graph.invoke(state, config)\n",
    "\n",
    "for m in state['messages']:\n",
    "    m.pretty_print()\n"
   ]
  },
  {
   "cell_type": "markdown",
   "metadata": {},
   "source": [
    "Greeting node can identify the users intent and redirect the user to the appropriate agent.\n",
    "\n",
    "When intent is certain it uses `redirect_tool` to pass the control to the next agent.\n",
    "`redirect_tool` updates the `current_route` argument with the next agent name.\n",
    "Routing edge after greeting agent picks up the new route and redirect the request to the next agent."
   ]
  },
  {
   "cell_type": "code",
   "execution_count": 33,
   "metadata": {},
   "outputs": [
    {
     "name": "stdout",
     "output_type": "stream",
     "text": [
      "Routing to Sign_up_agent\n",
      "================================\u001b[1m Human Message \u001b[0m=================================\n",
      "Name: User\n",
      "\n",
      "Hello\n",
      "==================================\u001b[1m Ai Message \u001b[0m==================================\n",
      "Name: Greeting_Agent\n",
      "\n",
      "Hello. I'm an automated assistant. How can I help you today?\n",
      "================================\u001b[1m Human Message \u001b[0m=================================\n",
      "Name: User\n",
      "\n",
      "I'd like to open an account\n",
      "==================================\u001b[1m Ai Message \u001b[0m==================================\n",
      "Name: Greeting_Agent\n",
      "Tool Calls:\n",
      "  redirect_tool (call_90fxzfdaQtcJAZnSGcgde66d)\n",
      " Call ID: call_90fxzfdaQtcJAZnSGcgde66d\n",
      "  Args:\n",
      "    next_agent: Sign_up_agent\n",
      "=================================\u001b[1m Tool Message \u001b[0m=================================\n",
      "Name: redirect_tool\n",
      "\n",
      "You will be redirected to Sign_up_agent\n",
      "==================================\u001b[1m Ai Message \u001b[0m==================================\n",
      "Name: Sign_up_agent\n",
      "\n",
      "Great! I can help you with that. I'll need to collect some information from you. Could you please provide your first name, last name, and email address?\n"
     ]
    }
   ],
   "source": [
    "state['messages'].append(HumanMessage(content=\"I'd like to open an account\", name=\"User\"))\n",
    "\n",
    "state = graph.invoke(state, config)\n",
    "\n",
    "for m in state['messages']:\n",
    "    m.pretty_print()"
   ]
  },
  {
   "cell_type": "markdown",
   "metadata": {},
   "source": [
    "Now every new request will be routed to the same agent by the `pre_greeting_routing` node. \n",
    "Until it completes it's task."
   ]
  },
  {
   "cell_type": "code",
   "execution_count": 34,
   "metadata": {},
   "outputs": [
    {
     "name": "stdout",
     "output_type": "stream",
     "text": [
      "Routing to Sign_up_agent\n",
      "================================\u001b[1m Human Message \u001b[0m=================================\n",
      "Name: User\n",
      "\n",
      "Hello\n",
      "==================================\u001b[1m Ai Message \u001b[0m==================================\n",
      "Name: Greeting_Agent\n",
      "\n",
      "Hello. I'm an automated assistant. How can I help you today?\n",
      "================================\u001b[1m Human Message \u001b[0m=================================\n",
      "Name: User\n",
      "\n",
      "I'd like to open an account\n",
      "==================================\u001b[1m Ai Message \u001b[0m==================================\n",
      "Name: Greeting_Agent\n",
      "Tool Calls:\n",
      "  redirect_tool (call_90fxzfdaQtcJAZnSGcgde66d)\n",
      " Call ID: call_90fxzfdaQtcJAZnSGcgde66d\n",
      "  Args:\n",
      "    next_agent: Sign_up_agent\n",
      "=================================\u001b[1m Tool Message \u001b[0m=================================\n",
      "Name: redirect_tool\n",
      "\n",
      "You will be redirected to Sign_up_agent\n",
      "==================================\u001b[1m Ai Message \u001b[0m==================================\n",
      "Name: Sign_up_agent\n",
      "\n",
      "Great! I can help you with that. I'll need to collect some information from you. Could you please provide your first name, last name, and email address?\n",
      "================================\u001b[1m Human Message \u001b[0m=================================\n",
      "Name: User\n",
      "\n",
      "Sure.  My name is John Doe.\n",
      "==================================\u001b[1m Ai Message \u001b[0m==================================\n",
      "Name: Sign_up_agent\n",
      "\n",
      "Thank you, John. Could you please provide your email address?\n"
     ]
    }
   ],
   "source": [
    "from langchain_core.messages import HumanMessage\n",
    "\n",
    "state['messages'].append(HumanMessage(content=\"Sure.  My name is John Doe.\", name=\"User\"))\n",
    "\n",
    "state = graph.invoke(state, config)\n",
    "\n",
    "for m in state['messages']:\n",
    "    m.pretty_print()"
   ]
  },
  {
   "cell_type": "markdown",
   "metadata": {},
   "source": []
  },
  {
   "cell_type": "code",
   "execution_count": 35,
   "metadata": {},
   "outputs": [
    {
     "name": "stdout",
     "output_type": "stream",
     "text": [
      "Routing to Sign_up_agent\n",
      "CREATING USER John Doe john.doe@example.com\n",
      "================================\u001b[1m Human Message \u001b[0m=================================\n",
      "Name: User\n",
      "\n",
      "Hello\n",
      "==================================\u001b[1m Ai Message \u001b[0m==================================\n",
      "Name: Greeting_Agent\n",
      "\n",
      "Hello. I'm an automated assistant. How can I help you today?\n",
      "================================\u001b[1m Human Message \u001b[0m=================================\n",
      "Name: User\n",
      "\n",
      "I'd like to open an account\n",
      "==================================\u001b[1m Ai Message \u001b[0m==================================\n",
      "Name: Greeting_Agent\n",
      "Tool Calls:\n",
      "  redirect_tool (call_90fxzfdaQtcJAZnSGcgde66d)\n",
      " Call ID: call_90fxzfdaQtcJAZnSGcgde66d\n",
      "  Args:\n",
      "    next_agent: Sign_up_agent\n",
      "=================================\u001b[1m Tool Message \u001b[0m=================================\n",
      "Name: redirect_tool\n",
      "\n",
      "You will be redirected to Sign_up_agent\n",
      "==================================\u001b[1m Ai Message \u001b[0m==================================\n",
      "Name: Sign_up_agent\n",
      "\n",
      "Great! I can help you with that. I'll need to collect some information from you. Could you please provide your first name, last name, and email address?\n",
      "================================\u001b[1m Human Message \u001b[0m=================================\n",
      "Name: User\n",
      "\n",
      "Sure.  My name is John Doe.\n",
      "==================================\u001b[1m Ai Message \u001b[0m==================================\n",
      "Name: Sign_up_agent\n",
      "\n",
      "Thank you, John. Could you please provide your email address?\n",
      "================================\u001b[1m Human Message \u001b[0m=================================\n",
      "Name: User\n",
      "\n",
      "john.doe@example.com\n",
      "==================================\u001b[1m Ai Message \u001b[0m==================================\n",
      "Name: Sign_up_agent\n",
      "Tool Calls:\n",
      "  tool_func (call_B3hixkjekriCkq5TM5qpLwVB)\n",
      " Call ID: call_B3hixkjekriCkq5TM5qpLwVB\n",
      "  Args:\n",
      "    first_name: John\n",
      "    last_name: Doe\n",
      "    email: john.doe@example.com\n",
      "=================================\u001b[1m Tool Message \u001b[0m=================================\n",
      "Name: tool_func\n",
      "\n",
      "User signed up. Verification email is sent\n",
      "==================================\u001b[1m Ai Message \u001b[0m==================================\n",
      "Name: Sign_up_agent\n",
      "\n",
      "Thank you, John! Your account has been successfully created, and a verification email has been sent to john.doe@example.com. Please check your inbox and follow the instructions to complete the verification process.\n",
      "\n",
      "Is there anything else I can assist you with today?\n"
     ]
    }
   ],
   "source": [
    "from langchain_core.messages import HumanMessage\n",
    "\n",
    "state['messages'].append(HumanMessage(content=\"john.doe@example.com\", name=\"User\"))\n",
    "\n",
    "state = graph.invoke(state, config)\n",
    "\n",
    "for m in state['messages']:\n",
    "    m.pretty_print()"
   ]
  },
  {
   "cell_type": "code",
   "execution_count": 36,
   "metadata": {},
   "outputs": [
    {
     "name": "stdout",
     "output_type": "stream",
     "text": [
      "Routing to Greeting_Agent\n",
      "================================\u001b[1m Human Message \u001b[0m=================================\n",
      "Name: User\n",
      "\n",
      "Hello\n",
      "==================================\u001b[1m Ai Message \u001b[0m==================================\n",
      "Name: Greeting_Agent\n",
      "\n",
      "Hello. I'm an automated assistant. How can I help you today?\n",
      "================================\u001b[1m Human Message \u001b[0m=================================\n",
      "Name: User\n",
      "\n",
      "I'd like to open an account\n",
      "==================================\u001b[1m Ai Message \u001b[0m==================================\n",
      "Name: Greeting_Agent\n",
      "Tool Calls:\n",
      "  redirect_tool (call_90fxzfdaQtcJAZnSGcgde66d)\n",
      " Call ID: call_90fxzfdaQtcJAZnSGcgde66d\n",
      "  Args:\n",
      "    next_agent: Sign_up_agent\n",
      "=================================\u001b[1m Tool Message \u001b[0m=================================\n",
      "Name: redirect_tool\n",
      "\n",
      "You will be redirected to Sign_up_agent\n",
      "==================================\u001b[1m Ai Message \u001b[0m==================================\n",
      "Name: Sign_up_agent\n",
      "\n",
      "Great! I can help you with that. I'll need to collect some information from you. Could you please provide your first name, last name, and email address?\n",
      "================================\u001b[1m Human Message \u001b[0m=================================\n",
      "Name: User\n",
      "\n",
      "Sure.  My name is John Doe.\n",
      "==================================\u001b[1m Ai Message \u001b[0m==================================\n",
      "Name: Sign_up_agent\n",
      "\n",
      "Thank you, John. Could you please provide your email address?\n",
      "================================\u001b[1m Human Message \u001b[0m=================================\n",
      "Name: User\n",
      "\n",
      "john.doe@example.com\n",
      "==================================\u001b[1m Ai Message \u001b[0m==================================\n",
      "Name: Sign_up_agent\n",
      "Tool Calls:\n",
      "  tool_func (call_B3hixkjekriCkq5TM5qpLwVB)\n",
      " Call ID: call_B3hixkjekriCkq5TM5qpLwVB\n",
      "  Args:\n",
      "    first_name: John\n",
      "    last_name: Doe\n",
      "    email: john.doe@example.com\n",
      "=================================\u001b[1m Tool Message \u001b[0m=================================\n",
      "Name: tool_func\n",
      "\n",
      "User signed up. Verification email is sent\n",
      "==================================\u001b[1m Ai Message \u001b[0m==================================\n",
      "Name: Sign_up_agent\n",
      "\n",
      "Thank you, John! Your account has been successfully created, and a verification email has been sent to john.doe@example.com. Please check your inbox and follow the instructions to complete the verification process.\n",
      "\n",
      "Is there anything else I can assist you with today?\n",
      "================================\u001b[1m Human Message \u001b[0m=================================\n",
      "Name: User\n",
      "\n",
      "Thank you\n",
      "==================================\u001b[1m Ai Message \u001b[0m==================================\n",
      "Name: Greeting_Agent\n",
      "\n",
      "You're welcome! If you have any more questions or need further assistance in the future, feel free to reach out. Have a great day!\n"
     ]
    }
   ],
   "source": [
    "from langchain_core.messages import HumanMessage\n",
    "\n",
    "state['messages'].append(HumanMessage(content=\"Thank you\", name=\"User\"))\n",
    "\n",
    "state = graph.invoke(state, config)\n",
    "\n",
    "for m in state['messages']:\n",
    "    m.pretty_print()"
   ]
  }
 ],
 "metadata": {
  "kernelspec": {
   "display_name": "Python 3 (ipykernel)",
   "language": "python",
   "name": "python3"
  },
  "language_info": {
   "codemirror_mode": {
    "name": "ipython",
    "version": 3
   },
   "file_extension": ".py",
   "mimetype": "text/x-python",
   "name": "python",
   "nbconvert_exporter": "python",
   "pygments_lexer": "ipython3",
   "version": "3.10.10"
  }
 },
 "nbformat": 4,
 "nbformat_minor": 4
}
